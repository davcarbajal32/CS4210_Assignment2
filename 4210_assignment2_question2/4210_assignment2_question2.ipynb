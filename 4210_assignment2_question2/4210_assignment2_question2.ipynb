{
  "nbformat": 4,
  "nbformat_minor": 0,
  "metadata": {
    "colab": {
      "provenance": []
    },
    "kernelspec": {
      "name": "python3",
      "display_name": "Python 3"
    },
    "language_info": {
      "name": "python"
    }
  },
  "cells": [
    {
      "cell_type": "code",
      "execution_count": 8,
      "metadata": {
        "colab": {
          "base_uri": "https://localhost:8080/"
        },
        "id": "vfb5x7ETGM6B",
        "outputId": "5c0b0e35-34e6-47f3-a9ae-ce2445d2590f"
      },
      "outputs": [
        {
          "output_type": "stream",
          "name": "stdout",
          "text": [
            "average accuracy of data set  1  is equal to  0.5\n",
            "average accuracy of data set  2  is equal to  0.75\n",
            "average accuracy of data set  3  is equal to  0.875\n"
          ]
        }
      ],
      "source": [
        "#-------------------------------------------------------------------------\n",
        "# AUTHOR: David Carbajal\n",
        "# FILENAME: 4210_assignment2_question2.ipynb\n",
        "# SPECIFICATION:  training, testing, and output the performance of the 3 model\n",
        "# FOR: CS 4210- Assignment #2\n",
        "# TIME SPENT: 40 minutes\n",
        "#-----------------------------------------------------------*/\n",
        "#IMPORTANT NOTE: YOU ARE ALLOWED TO USE ANY PYTHON LIBRARY TO COMPLETE THIS PROGRAM\n",
        "#Importing some Python libraries\n",
        "from sklearn import tree\n",
        "import pandas as pd\n",
        "dataSets = ['contact_lens_training_1.csv', 'contact_lens_training_2.csv',\n",
        "'contact_lens_training_3.csv']\n",
        "num = 0\n",
        "#Reading the test data in a csv file using pandas\n",
        "dbTest = []\n",
        "df_test = pd.read_csv('contact_lens_test.csv')\n",
        "for _, row in df_test.iterrows():\n",
        "  dbTest.append(row.tolist())\n",
        "for ds in dataSets:\n",
        "  dbTraining = []\n",
        "  X = []\n",
        "  Y = []\n",
        "\n",
        "#Reading the training data in a csv file using pandas\n",
        "# --> add your Python code here\n",
        "  dbTraining = pd.read_csv(ds)\n",
        "\n",
        "#Transform the original categorical training features to numbers and add to the 4D array X.\n",
        "#For instance Young = 1, Prepresbyopic = 2, Presbyopic = 3, X = [[1, 1, 1, 1], [2, 2, 2, 2], ...]]\n",
        "#--> add your Python code here\n",
        "  age = {'Young': 1, 'Prepresbyopic': 2, 'Presbyopic': 3}\n",
        "  spectacle = {'Myope': 1, 'Hypermetrope': 2}\n",
        "  astigmatism = {'No': 1, 'Yes': 2}\n",
        "  tear = {'Reduced': 1, 'Normal': 2}\n",
        "  lenses = {'Yes': 1, 'No':  2}\n",
        "\n",
        "\n",
        "  for _, row in dbTraining.iterrows():\n",
        "    X.append([age[row[\"Age\"]], spectacle[row[\"Spectacle Prescription\"]], astigmatism[row[\"Astigmatism\"]], tear[row[\"Tear Production Rate\"]]])\n",
        "#Transform the original categorical training classes to numbers and add to the vector Y.\n",
        "#For instance Yes = 1 and No = 2, Y = [1, 1, 2, 2, ...]\n",
        "#--> add your Python code here\n",
        "\n",
        "  for _, row in dbTraining.iterrows():\n",
        "    Y.append([lenses[row[\"Recommended Lenses\"]]])\n",
        "\n",
        "#Loop your training and test tasks 10 times here\n",
        "  accuracy_values = []\n",
        "  for i in range (10):\n",
        "# fitting the decision tree to the data using entropy as your impurity measure and maximum depth = 5\n",
        "# --> addd your Python code here\n",
        "    clf = tree.DecisionTreeClassifier(criterion='entropy', max_depth=5)\n",
        "    clf = clf.fit(X, Y)\n",
        "#Read the test data and add this data to dbTest\n",
        "#--> add your Python code here\n",
        "    correct_tests = 0\n",
        "    total_tests = 0\n",
        "    for data in dbTest:\n",
        "\n",
        "#Transform the features of the test instances to numbers following the same strategy done during training,\n",
        "#and then use the decision tree to make the class prediction. For instance: class_predicted = clf.predict([[3, 1, 2, 1]])[0]\n",
        "#where [0] is used to get an integer as the predicted class label so that you can compare it with the true label\n",
        "#--> add your Python code here\n",
        "      x_test = [age[data[0]], spectacle[data[1]], astigmatism[data[2]], tear[data[3]],]\n",
        "#Compare the prediction with the true label (located at data[4]) of the test instance to start calculating the accuracy.\n",
        "#--> add your Python code here\n",
        "      prediction = int(clf.predict([x_test])[0])\n",
        "#Find the average of this model during the 10 runs (training and test set)\n",
        "#--> add your Python code here\n",
        "      if prediction == lenses[data[4]]:\n",
        "        correct_tests += 1\n",
        "      total_tests +=1\n",
        "\n",
        "  accuracy = correct_tests / total_tests\n",
        "  accuracy_values.append(accuracy)\n",
        "  num += 1\n",
        "\n",
        "#Print the average accuracy of this model during the 10 runs (training and testset).\n",
        "#Your output should be something like that: final accuracy when training on contact_lens_training_1.csv: 0.2\n",
        "#--> add your Python code here\n",
        "  average_accuracy = sum(accuracy_values) / len(accuracy_values)\n",
        "  print(\"average accuracy of data set \", num, \" is equal to \", average_accuracy)\n",
        ""
      ]
    }
  ]
}
