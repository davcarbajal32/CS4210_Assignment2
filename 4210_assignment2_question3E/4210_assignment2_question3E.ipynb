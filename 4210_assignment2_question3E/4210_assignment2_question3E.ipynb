{
  "nbformat": 4,
  "nbformat_minor": 0,
  "metadata": {
    "colab": {
      "provenance": []
    },
    "kernelspec": {
      "name": "python3",
      "display_name": "Python 3"
    },
    "language_info": {
      "name": "python"
    }
  },
  "cells": [
    {
      "cell_type": "code",
      "execution_count": 12,
      "metadata": {
        "colab": {
          "base_uri": "https://localhost:8080/"
        },
        "id": "orgeAygyy9ha",
        "outputId": "2aa8641a-9f5b-48c7-e7eb-22288032faba"
      },
      "outputs": [
        {
          "output_type": "stream",
          "name": "stdout",
          "text": [
            "LOO-CV error rate for a 1NN classifier is  0.14\n"
          ]
        }
      ],
      "source": [
        "#-------------------------------------------------------------------------\n",
        "# AUTHOR: David Carbajal\n",
        "# FILENAME: 4210_assignment2_question3E.ipynb, email_classification.csv\n",
        "# SPECIFICATION: computing the LOO-CV error rate for a 1NN classifier on the spam/ham classification task\n",
        "# FOR: CS 4210- Assignment #2\n",
        "# TIME SPENT: 30 minutes\n",
        "#-----------------------------------------------------------*/\n",
        "#IMPORTANT NOTE: YOU ARE ALLOWED TO USE ANY PYTHON LIBRARY TO COMPLETE THIS PROGRAM\n",
        "#Importing some Python libraries\n",
        "from sklearn.neighbors import KNeighborsClassifier\n",
        "import pandas as pd\n",
        "#Reading the data in a csv file using pandas\n",
        "db = []\n",
        "df = pd.read_csv('email_classification.csv')\n",
        "for _, row in df.iterrows():\n",
        "  db.append(row.tolist())\n",
        "\n",
        "# Create a mapping from class labels to numbers\n",
        "class_value = {'ham': 0, 'spam': 1}\n",
        "\n",
        "total_errors = 0\n",
        "total = 0\n",
        "\n",
        "#Loop your data to allow each instance to be your test set\n",
        "#Add the training features to the 20D array X removing the instance that will be used for testing in this iteration.\n",
        "#For instance, X = [[1, 2, 3, 4, 5, ..., 20]].\n",
        "#Convert each feature value to float to avoid warning messages\n",
        "#--> add your Python code here\n",
        "for row_num, i in enumerate(db):\n",
        "  X = []\n",
        "  for j, row in enumerate(db):\n",
        "    if j == row_num:\n",
        "        continue\n",
        "    X.append([float(v) for v in row[:-1]])\n",
        "\n",
        "#Transform the original training classes to numbers and add them to the vector Y.\n",
        "#Do not forget to remove the instance that will be used for testing in this iteration.\n",
        "#For instance, Y = [1, 2, ,...].\n",
        "#Convert each feature value to float to avoid warning messages\n",
        "#--> add your Python code here\n",
        "  Y = []\n",
        "  for j, row in enumerate(db):\n",
        "    if j == row_num:\n",
        "        continue\n",
        "    Y.append(float(class_value[row[-1]]))\n",
        "\n",
        "#Store the test sample of this iteration in the vector testSample\n",
        "#--> add your Python code here\n",
        "  testSample = []\n",
        "  for v in i[:-1]:\n",
        "    testSample.append(float(v))\n",
        "#Fitting the knn to the data using k = 1 and Euclidean distance (L2 norm)\n",
        "#--> add your Python code here\n",
        "  clf = KNeighborsClassifier(n_neighbors=1, metric='minkowski', p=2)\n",
        "  clf.fit(X, Y)\n",
        "#Use your test sample in this iteration to make the class prediction. For instance:\n",
        "#class_predicted = clf.predict([[1, 2, 3, 4, 5, ..., 20]])[0]\n",
        "#--> add your Python code here\n",
        "  class_predicted = clf.predict([testSample])[0]\n",
        "#Compare the prediction with the true label of the test instance to startcalculating the error rate.\n",
        "#--> add your Python code here\n",
        "\n",
        "  if class_predicted != float(class_value[i[-1]]):\n",
        "    total_errors += 1\n",
        "  total += 1\n",
        "#Print the error rate\n",
        "#--> add your Python code here\n",
        "print(\"LOO-CV error rate for a 1NN classifier is \", total_errors / total)"
      ]
    }
  ]
}
