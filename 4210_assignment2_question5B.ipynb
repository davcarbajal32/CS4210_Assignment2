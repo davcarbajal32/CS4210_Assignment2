{
  "nbformat": 4,
  "nbformat_minor": 0,
  "metadata": {
    "colab": {
      "provenance": []
    },
    "kernelspec": {
      "name": "python3",
      "display_name": "Python 3"
    },
    "language_info": {
      "name": "python"
    }
  },
  "cells": [
    {
      "cell_type": "code",
      "execution_count": 9,
      "metadata": {
        "colab": {
          "base_uri": "https://localhost:8080/"
        },
        "id": "gtu-p38fGpbw",
        "outputId": "9357f47a-d1c7-4c06-e1f6-709391b07def"
      },
      "outputs": [
        {
          "output_type": "stream",
          "name": "stdout",
          "text": [
            "Day Outlook Temperature Humidity Wind PlayTennis Confidence\n",
            "D1001 Sunny Hot High Strong {'Yes': 1, 'No': 2} 0.90\n",
            "D1002 Sunny Hot Normal Weak Yes 0.82\n",
            "D1004 Overcast Hot High Strong Yes 0.77\n",
            "D1007 Rain Mild Normal Strong Yes 0.91\n"
          ]
        }
      ],
      "source": [
        "#-------------------------------------------------------------------------\n",
        "# AUTHOR: David Carbajal\n",
        "# FILENAME: 4210_assignment2_question3E.ipynb, weather_test.csv, weather_training.csv\n",
        "# SPECIFICATION: that will read the file weather_training.csv (training set) and output the classification of each of the 10 instances from the file weather_test (test set) if the classification confidence is >= 0.75\n",
        "# FOR: CS 4210- Assignment #2\n",
        "# TIME SPENT: 20 minutes\n",
        "#-----------------------------------------------------------*/\n",
        "#IMPORTANT NOTE: YOU ARE ALLOWED TO USE ANY PYTHON LIBRARY TO COMPLETE THIS PROGRAM\n",
        "#Importing some Python libraries\n",
        "from sklearn.naive_bayes import GaussianNB\n",
        "import pandas as pd\n",
        "dbTraining = []\n",
        "dbTest = []\n",
        "\n",
        "#Reading the training data using Pandas\n",
        "df = pd.read_csv('weather_training.csv')\n",
        "for _, row in df.iterrows():\n",
        "  dbTraining.append(row.tolist())\n",
        "\n",
        "#Transform the original training features to numbers and add them to the 4D array X.\n",
        "#For instance Sunny = 1, Overcast = 2, Rain = 3, X = [[3, 1, 1, 2], [1, 3, 2,2], ...]]\n",
        "#--> add your Python code here\n",
        "outlook = {'Sunny': 1, 'Overcast': 2, 'Rain': 3}\n",
        "temp = {'Hot': 1, 'Mild': 2, 'Cool': 3}\n",
        "humidity = {'High': 1, 'Normal': 2}\n",
        "wind = {'Weak': 1, 'Strong': 2}\n",
        "\n",
        "#Transform the original training classes to numbers and add them to the vector Y.\n",
        "#For instance Yes = 1, No = 2, so Y = [1, 1, 2, 2, ...]\n",
        "#--> add your Python code here\n",
        "X = []\n",
        "for row in dbTraining:\n",
        "  X.append([\n",
        "      outlook[row[1]],\n",
        "      temp[row[2]],\n",
        "      humidity[row[3]],\n",
        "      wind[row[4]]\n",
        "  ])\n",
        "\n",
        "class_value = {'Yes': 1, 'No': 2}\n",
        "Y = []\n",
        "for row in dbTraining:\n",
        "  Y.append(class_value[row[5]])\n",
        "\n",
        "#Fitting the naive bayes to the data using smoothing\n",
        "#--> add your Python code here\n",
        "clf = GaussianNB()\n",
        "clf.fit(X, Y)\n",
        "\n",
        "#Reading the test data using Pandas\n",
        "df = pd.read_csv('weather_test.csv')\n",
        "for _, row in df.iterrows():\n",
        "  dbTest.append(row.tolist())\n",
        "\n",
        "#Printing the header os the solution\n",
        "#--> add your Python code here\n",
        "print(\"Day Outlook Temperature Humidity Wind PlayTennis Confidence\")\n",
        "\n",
        "#Use your test samples to make probabilistic predictions. For instance: clf.predict_proba([[3, 1, 2, 1]])[0]\n",
        "#--> add your Python code here\n",
        "for row in dbTest:\n",
        "  sample = [[\n",
        "      outlook[row[1]],\n",
        "      temp[row[2]],\n",
        "      humidity[row[3]],\n",
        "      wind[row[4]]\n",
        "  ]]\n",
        "\n",
        "  probability = clf.predict_proba(sample)[0]\n",
        "  prediction = clf.predict(sample)[0]\n",
        "  confidence = max(probability)\n",
        "  if confidence >= 0.75:\n",
        "    if prediction == 1:\n",
        "      class_value = 'Yes'\n",
        "    else: 'No'\n",
        "    print(f\"{row[0]} {row[1]} {row[2]} {row[3]} {row[4]} {class_value} {confidence:.2f}\")"
      ]
    }
  ]
}